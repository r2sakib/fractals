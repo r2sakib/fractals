{
  "nbformat": 4,
  "nbformat_minor": 0,
  "metadata": {
    "colab": {
      "name": "fractals.ipynb",
      "provenance": [],
      "mount_file_id": "1rE5oZDRUpyb6Yo_ysqHZelHilY7mENuU",
      "authorship_tag": "ABX9TyMXt2E/fpCKiRaDex3U0LzY",
      "include_colab_link": true
    },
    "kernelspec": {
      "name": "python3",
      "display_name": "Python 3"
    },
    "language_info": {
      "name": "python"
    }
  },
  "cells": [
    {
      "cell_type": "markdown",
      "metadata": {
        "id": "view-in-github",
        "colab_type": "text"
      },
      "source": [
        "<a href=\"https://colab.research.google.com/github/r2sakib/fractals/blob/main/fractals.ipynb\" target=\"_parent\"><img src=\"https://colab.research.google.com/assets/colab-badge.svg\" alt=\"Open In Colab\"/></a>"
      ]
    },
    {
      "cell_type": "code",
      "execution_count": 119,
      "metadata": {
        "id": "gKh-fyxnG86k"
      },
      "outputs": [],
      "source": [
        "import matplotlib.pyplot as plt\n",
        "import numpy as np\n",
        "import pylab"
      ]
    },
    {
      "cell_type": "markdown",
      "source": [
        "Vertices of an equilateral triangle"
      ],
      "metadata": {
        "id": "sXxF_t--NwFt"
      }
    },
    {
      "cell_type": "code",
      "source": [
        "A = (0, 0)\n",
        "B = (2.5, (5*np.sqrt(3)/2))\n",
        "C = (5, 0)"
      ],
      "metadata": {
        "id": "MjWHaY7KK1gf"
      },
      "execution_count": 120,
      "outputs": []
    },
    {
      "cell_type": "markdown",
      "source": [
        "Mid point of two coordinates."
      ],
      "metadata": {
        "id": "8SDlgLHeN7Rj"
      }
    },
    {
      "cell_type": "code",
      "source": [
        "def mid_point(a,b):\n",
        "  x = (a[0] + b[0])/2\n",
        "  y = (a[1] + b[1])/2\n",
        "\n",
        "  return x, y"
      ],
      "metadata": {
        "id": "AG6m6AB9NWTv"
      },
      "execution_count": 121,
      "outputs": []
    },
    {
      "cell_type": "markdown",
      "source": [
        "Choosing a random vertex"
      ],
      "metadata": {
        "id": "ttNwhvptWfHp"
      }
    },
    {
      "cell_type": "code",
      "source": [
        "def rand_vertex():\n",
        "  x = np.random.randint(3)\n",
        "  if x == 0:\n",
        "    return A\n",
        "  elif x == 1:\n",
        "    return B\n",
        "  elif x == 2:\n",
        "    return C"
      ],
      "metadata": {
        "id": "m_dLziI1Ohu_"
      },
      "execution_count": 122,
      "outputs": []
    },
    {
      "cell_type": "markdown",
      "source": [
        "1. Finding the mid point between the random point and the random vertex.\n",
        "2. First random point inside the triange is chosen manulally and then updated by the mid point on each loop.\n",
        "\n",
        "\n",
        "\n",
        "* Coordinate of the center of mass of an equilateral triangle $=(\\frac{B}{2},\\, \\frac{H}{3})$\n",
        "* Which in this case is $=(2.5, \\frac{5\\sqrt{3}}{6})$\n",
        "\n"
      ],
      "metadata": {
        "id": "skvA3BCpRII2"
      }
    },
    {
      "cell_type": "code",
      "source": [
        "rand_point = (2.5, (5*np.sqrt(3)/6)) #first random point (in this case it is the center of mass of the triangle)\n",
        "points = [A, B, C, rand_point]\n",
        "n = 0\n",
        "while n < 10000:\n",
        "  new_point = (mid_point(rand_vertex(), rand_point)) #see no. 1\n",
        "  rand_point = new_point #see no. 2\n",
        "  points.append(new_point)\n",
        "  n += 1"
      ],
      "metadata": {
        "id": "c9NiiomiRHtr"
      },
      "execution_count": 143,
      "outputs": []
    },
    {
      "cell_type": "markdown",
      "source": [
        "Plotting the `points` using `matplotlib`\n",
        "\n"
      ],
      "metadata": {
        "id": "MWqXC8spSZeB"
      }
    },
    {
      "cell_type": "code",
      "source": [
        "plt.scatter(*zip(*points))\n",
        "plt.show()\n",
        "\n",
        "#saving plot\n",
        "# path = \"/content/drive/MyDrive/Colab Notebooks/fractals.png\"\n",
        "# plt.savefig(path, dpi=1200)\n",
        "# files.download(path) "
      ],
      "metadata": {
        "colab": {
          "base_uri": "https://localhost:8080/",
          "height": 265
        },
        "id": "V9QlgV3uHMDE",
        "outputId": "ca6faec0-b444-4093-e3a3-9cfcc7c5f6a0"
      },
      "execution_count": 149,
      "outputs": [
        {
          "output_type": "display_data",
          "data": {
            "text/plain": [
              "<Figure size 432x288 with 1 Axes>"
            ],
            "image/png": "[encoded data removed]"
          },
          "metadata": {
            "needs_background": "light"
          }
        }
      ]
    },
    {
      "cell_type": "code",
      "source": [
        "from google.colab import drive, files\n",
        "drive.mount('/content/drive')"
      ],
      "metadata": {
        "colab": {
          "base_uri": "https://localhost:8080/"
        },
        "id": "HG00n51hbQF6",
        "outputId": "5f05a988-52f3-464d-c318-5646a612c00a"
      },
      "execution_count": 145,
      "outputs": [
        {
          "output_type": "stream",
          "name": "stdout",
          "text": [
            "Drive already mounted at /content/drive; to attempt to forcibly remount, call drive.mount(\"/content/drive\", force_remount=True).\n"
          ]
        }
      ]
    }
  ]
}