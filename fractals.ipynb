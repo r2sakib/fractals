{
  "nbformat": 4,
  "nbformat_minor": 0,
  "metadata": {
    "colab": {
      "name": "fractals.ipynb",
      "provenance": [],
      "mount_file_id": "1rE5oZDRUpyb6Yo_ysqHZelHilY7mENuU",
      "authorship_tag": "ABX9TyMaAp4RjTlCvTI7akTVg76+",
      "include_colab_link": true
    },
    "kernelspec": {
      "name": "python3",
      "display_name": "Python 3"
    },
    "language_info": {
      "name": "python"
    }
  },
  "cells": [
    {
      "cell_type": "markdown",
      "metadata": {
        "id": "view-in-github",
        "colab_type": "text"
      },
      "source": [
        "<a href=\"https://colab.research.google.com/github/r2sakib/fractals/blob/main/fractals.ipynb\" target=\"_parent\"><img src=\"https://colab.research.google.com/assets/colab-badge.svg\" alt=\"Open In Colab\"/></a>"
      ]
    },
    {
      "cell_type": "markdown",
      "source": [
        "# Creating [this](https://www.facebook.com/watch/?v=334478858534239&_rdr) fractal pattern using python.\n",
        "\n",
        "## Code sequence\n",
        "### Functions\n",
        "- Define a function to pick a random vertex from a list of tuple which stores the coordinates of a vertex.\n",
        "- Define a function to find the mid point from given two coordinates (tuple)\n",
        "\n",
        "### Main code\n",
        "1. Type the vertices of an equilateral triangle. (manually)\n",
        "2. Type a random starting point inside the triangle. (manually)\n",
        "3. Put the vertices random starting point inside a list.\n",
        "\n",
        "  `Start loop`\n",
        "4. Chose a random vertex.\n",
        "5. Find the mid point betweeen random point (new point from 2nd iteration) and random vertex.\n",
        "6. Set the new mid point to the starting point [2]\n",
        "7. Append the new mid point to the list [4]\n",
        "  \n",
        "  `Repeat each loop`"
      ],
      "metadata": {
        "id": "lFu9LcbcjpDk"
      }
    },
    {
      "cell_type": "code",
      "execution_count": null,
      "metadata": {
        "id": "gKh-fyxnG86k"
      },
      "outputs": [],
      "source": [
        "import matplotlib.pyplot as plt\n",
        "import numpy as np\n",
        "import pylab\n",
        "\n",
        "from google.colab import drive, files\n",
        "drive.mount('/content/drive')"
      ]
    },
    {
      "cell_type": "markdown",
      "source": [
        "Choosing a random vertex"
      ],
      "metadata": {
        "id": "ttNwhvptWfHp"
      }
    },
    {
      "cell_type": "code",
      "source": [
        "def rand_vertex():\n",
        "  x = np.random.randint(len(vertices))\n",
        "  return vertices[x]"
      ],
      "metadata": {
        "id": "m_dLziI1Ohu_"
      },
      "execution_count": 17,
      "outputs": []
    },
    {
      "cell_type": "markdown",
      "source": [
        "Mid point of two coordinates."
      ],
      "metadata": {
        "id": "8SDlgLHeN7Rj"
      }
    },
    {
      "cell_type": "code",
      "source": [
        "def mid_point(a, b):\n",
        "  x = (a[0] + b[0])/2\n",
        "  y = (a[1] + b[1])/2\n",
        "\n",
        "  return x, y"
      ],
      "metadata": {
        "id": "AG6m6AB9NWTv"
      },
      "execution_count": null,
      "outputs": []
    },
    {
      "cell_type": "markdown",
      "source": [
        "Vertices of an equilateral triangle and first random point inside the triangle"
      ],
      "metadata": {
        "id": "sXxF_t--NwFt"
      }
    },
    {
      "cell_type": "code",
      "source": [
        "vertices = [(0, 0), (5, 0), (2.5, (5*np.sqrt(3)/2))]\n",
        "rand_point = (3, 3)\n",
        "#rand_point = (2.5, (5*np.sqrt(3)/6)) #first random point (in this case it is the center of mass of the triangle)\n",
        "\n",
        "points = [i for i in vertices]\n",
        "points.append(rand_point)"
      ],
      "metadata": {
        "id": "MjWHaY7KK1gf"
      },
      "execution_count": 41,
      "outputs": []
    },
    {
      "cell_type": "markdown",
      "source": [
        "\n",
        "A slightly different pattern emegers when the first random point is somewhere in the middle (center of mass) of the triangle.\n",
        "\n",
        "* Coordinate of the center of mass of an equilateral triangle $=(\\frac{B}{2},\\, \\frac{H}{3})$\n",
        "* Which in this case is $=(2.5, \\frac{5\\sqrt{3}}{6})$\n",
        "\n",
        "---\n",
        "\n"
      ],
      "metadata": {
        "id": "skvA3BCpRII2"
      }
    },
    {
      "cell_type": "markdown",
      "source": [
        "Main loop"
      ],
      "metadata": {
        "id": "HxEAvI35m3Ef"
      }
    },
    {
      "cell_type": "code",
      "source": [
        "n = 0\n",
        "while n < 10000:\n",
        "  new_point = (mid_point(rand_vertex(), rand_point)) #see no. 1\n",
        "  rand_point = new_point #see no. 2\n",
        "  points.append(new_point)\n",
        "  n += 1"
      ],
      "metadata": {
        "id": "c9NiiomiRHtr"
      },
      "execution_count": 42,
      "outputs": []
    },
    {
      "cell_type": "markdown",
      "source": [
        "Plotting the `points` using `matplotlib`\n",
        "\n"
      ],
      "metadata": {
        "id": "MWqXC8spSZeB"
      }
    },
    {
      "cell_type": "code",
      "source": [
        "plt.scatter(*zip(*points))\n",
        "plt.show()"
      ],
      "metadata": {
        "colab": {
          "base_uri": "https://localhost:8080/",
          "height": 265
        },
        "id": "V9QlgV3uHMDE",
        "outputId": "a4deeb8c-3ed6-44dd-af40-2c6625b8940a"
      },
      "execution_count": 43,
      "outputs": [
        {
          "output_type": "display_data",
          "data": {
            "text/plain": [
              "<Figure size 432x288 with 1 Axes>"
            ],
            "image/png": "[encoded data removed]"
          },
          "metadata": {
            "needs_background": "light"
          }
        }
      ]
    },
    {
      "cell_type": "markdown",
      "source": [
        "Saving plot to Gdrive and downloading to device."
      ],
      "metadata": {
        "id": "2NsFiOi7gdbV"
      }
    },
    {
      "cell_type": "code",
      "source": [
        "path = \"/content/drive/MyDrive/Colab Notebooks/fractals.png\"\n",
        "plt.savefig(path, dpi=1200)\n",
        "files.download(path) "
      ],
      "metadata": {
        "id": "c9era_3LgaMR"
      },
      "execution_count": null,
      "outputs": []
    }
  ]
}